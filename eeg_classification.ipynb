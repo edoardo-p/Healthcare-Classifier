{
  "cells": [
    {
      "cell_type": "code",
      "execution_count": 1,
      "metadata": {
        "colab": {
          "base_uri": "https://localhost:8080/"
        },
        "id": "26tbQRutO7Zz",
        "outputId": "aef276a7-69fd-40c8-ae18-615057366b49"
      },
      "outputs": [],
      "source": [
        "import numpy as np\n",
        "import pandas as pd\n",
        "from sklearn.ensemble import RandomForestClassifier\n",
        "from sklearn.metrics import (\n",
        "    accuracy_score,\n",
        "    confusion_matrix,\n",
        "    make_scorer,\n",
        "    recall_score,\n",
        "    roc_auc_score,\n",
        ")\n",
        "from sklearn.model_selection import cross_val_score, train_test_split, GridSearchCV\n",
        "from sklearn.preprocessing import StandardScaler\n",
        "from sklearn.svm import SVC\n",
        "\n",
        "seed = 42\n"
      ]
    },
    {
      "cell_type": "code",
      "execution_count": 2,
      "metadata": {},
      "outputs": [
        {
          "data": {
            "text/plain": [
              "{'C': 1.0,\n",
              " 'break_ties': False,\n",
              " 'cache_size': 200,\n",
              " 'class_weight': None,\n",
              " 'coef0': 0.0,\n",
              " 'decision_function_shape': 'ovr',\n",
              " 'degree': 3,\n",
              " 'gamma': 'scale',\n",
              " 'kernel': 'rbf',\n",
              " 'max_iter': -1,\n",
              " 'probability': False,\n",
              " 'random_state': None,\n",
              " 'shrinking': True,\n",
              " 'tol': 0.001,\n",
              " 'verbose': False}"
            ]
          },
          "execution_count": 2,
          "metadata": {},
          "output_type": "execute_result"
        }
      ],
      "source": [
        "SVC().get_params()"
      ]
    },
    {
      "cell_type": "code",
      "execution_count": 3,
      "metadata": {
        "id": "IeNZzsKZPiZa"
      },
      "outputs": [
        {
          "data": {
            "text/plain": [
              "(500, 4095)"
            ]
          },
          "execution_count": 3,
          "metadata": {},
          "output_type": "execute_result"
        }
      ],
      "source": [
        "df = pd.read_csv(\"data.csv\", index_col=0)\n",
        "df1 = df[df[\"y\"] == 1]\n",
        "df2 = df[df[\"y\"] == 2]\n",
        "df3 = df[df[\"y\"] == 3]\n",
        "df4 = df[df[\"y\"] == 4]\n",
        "df5 = df[df[\"y\"] == 5]\n",
        "\n",
        "df12 = pd.concat((df1, df2), axis=0)\n",
        "df13 = pd.concat((df1, df3), axis=0)\n",
        "df14 = pd.concat((df1, df4), axis=0)\n",
        "df15 = pd.concat((df1, df5), axis=0)\n",
        "\n",
        "labels12 = df12.pop(\"y\")\n",
        "labels13 = df13.pop(\"y\")\n",
        "labels14 = df14.pop(\"y\")\n",
        "labels15 = df15.pop(\"y\")\n",
        "df.shape"
      ]
    },
    {
      "cell_type": "markdown",
      "metadata": {
        "id": "Nz5K-CovaHvH"
      },
      "source": [
        "**CROSS-VALIDATION**"
      ]
    },
    {
      "cell_type": "code",
      "execution_count": 4,
      "metadata": {
        "id": "VTgM3k_LaNaV"
      },
      "outputs": [],
      "source": [
        "def cross_validate(estimator, X, y, k, neg):\n",
        "    specificity = make_scorer(recall_score, pos_label=1)\n",
        "    sensitivity = make_scorer(recall_score, pos_label=neg)\n",
        "    metrics = {\n",
        "        \"Specificity\": specificity,\n",
        "        \"Sensitivity\": sensitivity,\n",
        "        \"Accuracy\": make_scorer(accuracy_score),\n",
        "        \"ROC-AUC\": make_scorer(roc_auc_score),\n",
        "    }\n",
        "    for name, func in metrics.items():\n",
        "        results = cross_val_score(estimator=estimator, X=X, y=y, cv=k, scoring=func)\n",
        "        mu = results.mean()\n",
        "        sigma = results.std()\n",
        "        print(f\"{name}: {mu:.3f} +- {sigma:.3f}\")\n",
        "    print()\n"
      ]
    },
    {
      "cell_type": "markdown",
      "metadata": {
        "id": "5qPWjsGA5nEi"
      },
      "source": [
        "## **SVM**"
      ]
    },
    {
      "cell_type": "markdown",
      "metadata": {
        "id": "3CgkzVVbuQ0j"
      },
      "source": [
        "**FITTING MODELS**"
      ]
    },
    {
      "cell_type": "code",
      "execution_count": 5,
      "metadata": {
        "id": "qtl8_qztRzV6"
      },
      "outputs": [],
      "source": [
        "def get_principal_components(X, threshold=0.9):\n",
        "  l, v = np.linalg.eig(X.corr())\n",
        "  eigen = pd.DataFrame(v.real.T)\n",
        "  eigen[\"l\"] = l.real\n",
        "  eigen.sort_values(\"l\", ascending=False, inplace=True)\n",
        "  cumulative = np.cumsum(eigen[\"l\"] / sum(eigen[\"l\"]))\n",
        "  n_comp = sum(cumulative <= threshold) + 1\n",
        "  return eigen.head(n_comp)\n",
        "\n",
        "def pca(X, components):\n",
        "  transformed = np.dot(X, components.drop(\"l\", axis=1).T)\n",
        "  transfomed = (transformed - np.mean(transformed, axis=0)) / np.std(transformed, axis=0)\n",
        "  return transformed"
      ]
    },
    {
      "cell_type": "code",
      "execution_count": 6,
      "metadata": {
        "id": "-lj_RLuGkNW2"
      },
      "outputs": [],
      "source": [
        "def svc_pca_classification(df, labels, neg_class, **kwargs):\n",
        "  # Train-test split\n",
        "  X_train, X_test, y_train, y_test = train_test_split(df, labels, test_size=0.25, random_state=seed)\n",
        "  \n",
        "  # PCA on train\n",
        "  components = get_principal_components(X_train) \n",
        "  X_train = pca(X_train, components)\n",
        "  X_test = pca(X_test, components)\n",
        "  \n",
        "\n",
        "  # Train the models\n",
        "  svc = SVC()\n",
        "  clf = GridSearchCV(svc, kwargs.get(\"params\"), scoring=make_scorer(recall_score, pos_label=neg_class), cv=10)\n",
        "  clf.fit(X_train, y_train)\n",
        "  print(clf.best_params_)\n",
        "  # Cross Validation\n",
        "  # print(f\"Linear standardized SVC 1v{neg_class}\")\n",
        "  # cross_validate(svc_linear, X_train_scaled, y_train, 10, neg_class)"
      ]
    },
    {
      "cell_type": "code",
      "execution_count": 7,
      "metadata": {
        "colab": {
          "background_save": true
        },
        "id": "6qyJRdysmQkb"
      },
      "outputs": [],
      "source": [
        "params = [\n",
        "    {\"C\": [1, 5, 10, 50, 100], \"kernel\": [\"linear\", \"gaussian\"]},\n",
        "]\n",
        "\n",
        "\n",
        "svc_pca_classification(df12, labels12, 2, params=params)\n",
        "# svc_pca_classification(df13, labels13, 3, C=5)\n",
        "# svc_pca_classification(df14, labels14, 4, C=5)\n",
        "# svc_pca_classification(df15, labels15, 5, C=5)"
      ]
    },
    {
      "cell_type": "markdown",
      "metadata": {
        "id": "wv0HZG-n5vu8"
      },
      "source": [
        "**RANDOM FOREST**"
      ]
    },
    {
      "cell_type": "code",
      "execution_count": null,
      "metadata": {
        "id": "jNzrpu0cbGgE"
      },
      "outputs": [],
      "source": [
        "classifier = RandomForestClassifier(n_estimators = 10, criterion = 'entropy', random_state = 0)\n",
        "classifier.fit(X_train, y_train)"
      ]
    },
    {
      "cell_type": "markdown",
      "metadata": {
        "id": "hB8m4FUT5zE9"
      },
      "source": [
        "**CROSSVALIDATION FOR SVM**"
      ]
    },
    {
      "cell_type": "code",
      "execution_count": null,
      "metadata": {
        "id": "VaF0_UYDaxDB"
      },
      "outputs": [],
      "source": [
        "accuracies = cross_val_score(estimator = classifier, X = X_train, y = y_train, cv = 10)\n",
        "print(\"Accuracy: {:.2f} %\".format(accuracies.mean()*100))\n",
        "print(\"Standard Deviation: {:.2f} %\".format(accuracies.std()*100))"
      ]
    },
    {
      "cell_type": "markdown",
      "metadata": {
        "id": "fI4Nh4S76iaK"
      },
      "source": [
        "**CROSS VALIDATION FOR RANDOM FOREST**"
      ]
    },
    {
      "cell_type": "code",
      "execution_count": null,
      "metadata": {
        "id": "dvWvUbuya2zR"
      },
      "outputs": [],
      "source": [
        "accuracies = cross_val_score(estimator = classifier, X = X_train, y = y_train, cv = 10)\n",
        "print(\"Accuracy: {:.2f} %\".format(accuracies.mean()*100))\n",
        "print(\"Standard Deviation: {:.2f} %\".format(accuracies.std()*100))"
      ]
    },
    {
      "cell_type": "code",
      "execution_count": null,
      "metadata": {
        "id": "TcLlXEqFbSY-"
      },
      "outputs": [],
      "source": [
        "print(classifier.predict(sc.transform([[ , ]])))"
      ]
    },
    {
      "cell_type": "code",
      "execution_count": null,
      "metadata": {
        "id": "ryA5CAeybXTK"
      },
      "outputs": [],
      "source": [
        "y_pred = classifier.predict(X_test)\n",
        "print(np.concatenate((y_pred.reshape(len(y_pred),1), y_test.reshape(len(y_test),1)),1))"
      ]
    },
    {
      "cell_type": "code",
      "execution_count": null,
      "metadata": {
        "id": "W-ob0FfAbcWj"
      },
      "outputs": [],
      "source": [
        "cm = confusion_matrix(y_test, y_pred)\n",
        "print(cm)\n",
        "accuracy_score(y_test, y_pred)"
      ]
    },
    {
      "cell_type": "markdown",
      "metadata": {
        "id": "nGdTkDaL55O1"
      },
      "source": [
        "**TESTING FOR SVM**"
      ]
    },
    {
      "cell_type": "markdown",
      "metadata": {
        "id": "VZDvYzm65761"
      },
      "source": [
        "**TESTING FOR RANDOM FOREST**"
      ]
    },
    {
      "cell_type": "code",
      "execution_count": null,
      "metadata": {
        "id": "BR23-B5vcAwS"
      },
      "outputs": [],
      "source": []
    },
    {
      "cell_type": "markdown",
      "metadata": {
        "id": "UMA_J6Cg5-zL"
      },
      "source": [
        "**BIAS FOR SVM**"
      ]
    },
    {
      "cell_type": "markdown",
      "metadata": {
        "id": "qeYI22Ek6AXq"
      },
      "source": [
        "**BIAS FOR RANDOM FORST**"
      ]
    },
    {
      "cell_type": "code",
      "execution_count": null,
      "metadata": {
        "id": "vAITq6gttwl7"
      },
      "outputs": [],
      "source": [
        "import matplotlib.pyplot as plt\n",
        "import pandas as pd\n",
        "import numpy as np\n",
        "\n",
        "from google.colab import drive\n",
        "drive.mount('/content/drive')\n",
        "%matplotlib inline\n",
        "\n",
        "seed = 42\n",
        "# ADASYN\n",
        "# 5-CV\n",
        "# sensitivity +- std"
      ]
    },
    {
      "cell_type": "code",
      "execution_count": null,
      "metadata": {
        "id": "b9nHfHuEtwl8"
      },
      "outputs": [],
      "source": [
        "df = pd.read_csv(\"drive/MyDrive/Colab Notebooks/EEG Classifier/data.csv\", index_col=0)\n",
        "df1 = df[df[\"y\"] == 1]\n",
        "df2 = df[df[\"y\"] == 2]#.sample(frac=0.25, axis=0, random_state=seed)\n",
        "df3 = df[df[\"y\"] == 3]#.sample(frac=0.25, axis=0, random_state=seed)\n",
        "df4 = df[df[\"y\"] == 4]#.sample(frac=0.25, axis=0, random_state=seed)\n",
        "df5 = df[df[\"y\"] == 5]#.sample(frac=0.25, axis=0, random_state=seed)\n",
        "\n",
        "df12 = pd.concat((df1, df2), axis=0)\n",
        "df13 = pd.concat((df1, df3), axis=0)\n",
        "df14 = pd.concat((df1, df4), axis=0)\n",
        "df15 = pd.concat((df1, df5), axis=0)\n",
        "\n",
        "labels12 = df12.pop(\"y\")\n",
        "labels13 = df13.pop(\"y\")\n",
        "labels14 = df14.pop(\"y\")\n",
        "labels15 = df15.pop(\"y\")\n",
        "\n",
        "labels = df.pop(\"y\")\n",
        "#labels[labels != 1] = 0\n",
        "\n",
        "#df.shape, labels.shape"
      ]
    },
    {
      "cell_type": "code",
      "execution_count": null,
      "metadata": {
        "id": "UWQIsZK_twl8"
      },
      "outputs": [],
      "source": [
        "t = np.arange(1, 4095, 1)\n",
        "fig, axes = plt.subplots(5, 1)\n",
        "axes[0].plot(t, df.iloc[5], color=\"green\")\n",
        "axes[1].plot(t, df.iloc[4], color=\"blue\")\n",
        "axes[2].plot(t, df.iloc[3], color=\"red\")\n",
        "axes[3].plot(t, df.iloc[2], color=\"orange\")\n",
        "axes[4].plot(t, df.iloc[1], color=\"purple\")"
      ]
    },
    {
      "cell_type": "code",
      "execution_count": null,
      "metadata": {
        "id": "BXJMWo77mpvf"
      },
      "outputs": [],
      "source": [
        "df.iloc[5].idxmax(), df.iloc[4].idxmax(), df.iloc[3].idxmax(), df.iloc[2].idxmax(), df.iloc[1].idxmax(),"
      ]
    },
    {
      "cell_type": "code",
      "execution_count": null,
      "metadata": {
        "id": "FCePrX71twl8"
      },
      "outputs": [],
      "source": [
        "from sklearn.preprocessing import StandardScaler\n",
        "from sklearn.model_selection import train_test_split\n",
        "from sklearn.model_selection import cross_val_score\n",
        "from sklearn.svm import SVC\n",
        "from sklearn.ensemble import RandomForestClassifier\n",
        "from sklearn.metrics import confusion_matrix, accuracy_score, roc_auc_score"
      ]
    },
    {
      "cell_type": "code",
      "execution_count": null,
      "metadata": {
        "id": "mTBpBrsVtwl9"
      },
      "outputs": [],
      "source": [
        "def print_metrics(y_true, y_pred, model_name):\n",
        "  tn, fp, fn, tp = confusion_matrix(y_true, y_pred).ravel()\n",
        "  print(model_name)\n",
        "  print(f\"Sensitivity: {tp / (tp + fn)}\")\n",
        "  print(f\"Specificity: {tn / (tn + fp)}\")\n",
        "  print(f\"Accuracy: {accuracy_score(y_true, y_pred)}\")\n",
        "  print(f\"ROC-AUC: {roc_auc_score(y_true, y_pred)}\")\n",
        "  print()"
      ]
    },
    {
      "cell_type": "markdown",
      "metadata": {
        "id": "8RZaieFEtwl9"
      },
      "source": [
        " **TEST TRAIN SPLIT**\n"
      ]
    },
    {
      "cell_type": "code",
      "execution_count": null,
      "metadata": {
        "id": "NXl89s9Ltwl9"
      },
      "outputs": [],
      "source": [
        "X_train, X_test, y_train, y_test = train_test_split(df, labels, test_size = 0.25, random_state = 0)"
      ]
    },
    {
      "cell_type": "code",
      "execution_count": null,
      "metadata": {
        "id": "Jh6Pks_Gtwl9"
      },
      "outputs": [],
      "source": [
        "print(X_train)"
      ]
    },
    {
      "cell_type": "code",
      "execution_count": null,
      "metadata": {
        "id": "MFVZM0qMtwl9"
      },
      "outputs": [],
      "source": [
        "print(X_test)"
      ]
    },
    {
      "cell_type": "code",
      "execution_count": null,
      "metadata": {
        "id": "fvvSWKGJtwl9"
      },
      "outputs": [],
      "source": [
        "print(y_train)"
      ]
    },
    {
      "cell_type": "code",
      "execution_count": null,
      "metadata": {
        "id": "fhKrAnDbtwl-"
      },
      "outputs": [],
      "source": [
        "print(y_test)"
      ]
    },
    {
      "cell_type": "markdown",
      "metadata": {
        "id": "vC34M9IMtwl-"
      },
      "source": [
        "## **SVM**"
      ]
    },
    {
      "cell_type": "markdown",
      "metadata": {
        "id": "SK9-S7KHe659"
      },
      "source": [
        "**FEATURE SCALING**"
      ]
    },
    {
      "cell_type": "code",
      "execution_count": null,
      "metadata": {
        "id": "TF31TY_2twl-"
      },
      "outputs": [],
      "source": [
        "sc = StandardScaler()\n",
        "X_train_scaled = sc.fit_transform(X_train)\n",
        "X_test_scaled = sc.transform(X_test)"
      ]
    },
    {
      "cell_type": "markdown",
      "metadata": {
        "id": "_Ax5WYqQfMfj"
      },
      "source": [
        "**FITTING MODELS**"
      ]
    },
    {
      "cell_type": "code",
      "execution_count": null,
      "metadata": {
        "id": "h2TRtWU2twl-"
      },
      "outputs": [],
      "source": [
        "svc_linear = SVC(kernel=\"linear\", random_state=seed)\n",
        "svc_linear.fit(X_train, y_train)\n",
        "y_pred_linear = svc_linear.predict(X_test)\n",
        "svc_linear.fit(X_train_scaled, y_train)\n",
        "y_pred_linear_scaled = svc_linear.predict(X_test_scaled)\n",
        "\n",
        "svc_gaussian = SVC(kernel=\"sigmoid\", random_state=seed)\n",
        "svc_gaussian.fit(X_train, y_train)\n",
        "y_pred_gaussian = svc_gaussian.predict(X_test)\n",
        "svc_gaussian.fit(X_train_scaled, y_train)\n",
        "y_pred_gaussian_scaled = svc_gaussian.predict(X_test_scaled)"
      ]
    },
    {
      "cell_type": "code",
      "execution_count": null,
      "metadata": {
        "id": "erBzAF_atwl-"
      },
      "outputs": [],
      "source": [
        "print_metrics(y_test.values, y_pred_linear)\n",
        "print_metrics(y_test.values, y_pred_linear_scaled)\n",
        "print_metrics(y_test.values, y_pred_gaussian)\n",
        "print_metrics(y_test.values, y_pred_gaussian_scaled)"
      ]
    },
    {
      "cell_type": "code",
      "execution_count": null,
      "metadata": {
        "id": "Lu5sc-DnjSdh"
      },
      "outputs": [],
      "source": [
        "def svc_classification(df, labels, classes):\n",
        "  X_train, X_test, y_train, y_test = train_test_split(df, labels, test_size = 0.25, random_state = 0)\n",
        "  \n",
        "  sc = StandardScaler()\n",
        "  X_train_scaled = sc.fit_transform(X_train)\n",
        "  X_test_scaled = sc.transform(X_test)\n",
        "\n",
        "  svc_linear = SVC(kernel=\"linear\", random_state=seed)\n",
        "  svc_linear.fit(X_train, y_train)\n",
        "  y_pred_linear = svc_linear.predict(X_test)\n",
        "  svc_linear.fit(X_train_scaled, y_train)\n",
        "  y_pred_linear_scaled = svc_linear.predict(X_test_scaled)\n",
        "\n",
        "  svc_gaussian = SVC(kernel=\"sigmoid\", random_state=seed)\n",
        "  svc_gaussian.fit(X_train, y_train)\n",
        "  y_pred_gaussian = svc_gaussian.predict(X_test)\n",
        "  svc_gaussian.fit(X_train_scaled, y_train)\n",
        "  y_pred_gaussian_scaled = svc_gaussian.predict(X_test_scaled)\n",
        "\n",
        "  print_metrics(y_test.values, y_pred_linear, f\"Linear SVC {classes}\")\n",
        "  print_metrics(y_test.values, y_pred_linear_scaled, f\"Linear scaled SVC {classes}\")\n",
        "  print_metrics(y_test.values, y_pred_gaussian, f\"Gaussian SVC {classes}\")\n",
        "  print_metrics(y_test.values, y_pred_gaussian_scaled, f\"Gaussian linear SVC {classes}\")"
      ]
    },
    {
      "cell_type": "code",
      "execution_count": null,
      "metadata": {
        "id": "_ym0QGqTjm4r"
      },
      "outputs": [],
      "source": [
        "svc_classification(df12, labels12, \"1v2\")\n",
        "svc_classification(df13, labels13, \"1v3\")\n",
        "svc_classification(df14, labels14, \"1v4\")\n",
        "svc_classification(df15, labels15, \"1v5\")"
      ]
    },
    {
      "cell_type": "code",
      "execution_count": null,
      "metadata": {
        "id": "HS_7hBV3lPCG"
      },
      "outputs": [],
      "source": [
        "svc_classification(df, labels, \"Full\")"
      ]
    },
    {
      "cell_type": "markdown",
      "metadata": {
        "id": "jrzNdfSPtwl_"
      },
      "source": [
        "**RANDOM FOREST**"
      ]
    },
    {
      "cell_type": "code",
      "execution_count": null,
      "metadata": {
        "id": "dk6mZngYtwl_"
      },
      "outputs": [],
      "source": [
        "classifier = RandomForestClassifier(n_estimators = 10, criterion = 'entropy', random_state = 0)\n",
        "classifier.fit(X_train, y_train)"
      ]
    },
    {
      "cell_type": "markdown",
      "metadata": {
        "id": "lp_a6eJ_twmA"
      },
      "source": [
        "**CROSSVALIDATION FOR SVM**"
      ]
    },
    {
      "cell_type": "code",
      "execution_count": null,
      "metadata": {
        "id": "z_Mx3_ljtwmA"
      },
      "outputs": [],
      "source": [
        "accuracies = cross_val_score(estimator = classifier, X = X_train, y = y_train, cv = 10)\n",
        "print(\"Accuracy: {:.2f} %\".format(accuracies.mean()*100))\n",
        "print(\"Standard Deviation: {:.2f} %\".format(accuracies.std()*100))"
      ]
    },
    {
      "cell_type": "markdown",
      "metadata": {
        "id": "yr8F3AhNtwmA"
      },
      "source": [
        "**CROSS VALIDATION FOR RANDOM FOREST**"
      ]
    },
    {
      "cell_type": "code",
      "execution_count": null,
      "metadata": {
        "id": "KoOU2wWhtwmB"
      },
      "outputs": [],
      "source": [
        "accuracies = cross_val_score(estimator = classifier, X = X_train, y = y_train, cv = 10)\n",
        "print(\"Accuracy: {:.2f} %\".format(accuracies.mean()*100))\n",
        "print(\"Standard Deviation: {:.2f} %\".format(accuracies.std()*100))"
      ]
    },
    {
      "cell_type": "code",
      "execution_count": null,
      "metadata": {
        "id": "vuHY61YxtwmB"
      },
      "outputs": [],
      "source": [
        "print(classifier.predict(sc.transform([[ , ]])))"
      ]
    },
    {
      "cell_type": "code",
      "execution_count": null,
      "metadata": {
        "id": "6bgIEGittwmB"
      },
      "outputs": [],
      "source": [
        "y_pred = classifier.predict(X_test)\n",
        "print(np.concatenate((y_pred.reshape(len(y_pred),1), y_test.reshape(len(y_test),1)),1))"
      ]
    },
    {
      "cell_type": "code",
      "execution_count": null,
      "metadata": {
        "id": "lldQL-J3twmB"
      },
      "outputs": [],
      "source": [
        "cm = confusion_matrix(y_test, y_pred)\n",
        "print(cm)\n",
        "accuracy_score(y_test, y_pred)"
      ]
    },
    {
      "cell_type": "markdown",
      "metadata": {
        "id": "bUMcvmBWtwmB"
      },
      "source": [
        "**TESTING FOR SVM**"
      ]
    },
    {
      "cell_type": "markdown",
      "metadata": {
        "id": "emofLv8atwmB"
      },
      "source": [
        "**TESTING FOR RANDOM FOREST**"
      ]
    },
    {
      "cell_type": "code",
      "execution_count": null,
      "metadata": {
        "id": "lVKPfPXGtwmB"
      },
      "outputs": [],
      "source": []
    },
    {
      "cell_type": "markdown",
      "metadata": {
        "id": "vFa73eqstwmC"
      },
      "source": [
        "**BIAS FOR SVM**"
      ]
    },
    {
      "cell_type": "markdown",
      "metadata": {
        "id": "Ji8Kq-1VtwmC"
      },
      "source": [
        "**BIAS FOR RANDOM FORST**"
      ]
    }
  ],
  "metadata": {
    "colab": {
      "provenance": []
    },
    "gpuClass": "standard",
    "kernelspec": {
      "display_name": "Python 3",
      "name": "python3"
    },
    "language_info": {
      "codemirror_mode": {
        "name": "ipython",
        "version": 3
      },
      "file_extension": ".py",
      "mimetype": "text/x-python",
      "name": "python",
      "nbconvert_exporter": "python",
      "pygments_lexer": "ipython3",
      "version": "3.11.0"
    }
  },
  "nbformat": 4,
  "nbformat_minor": 0
}
